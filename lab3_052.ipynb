{
 "cells": [
  {
   "cell_type": "code",
   "execution_count": 133,
   "metadata": {},
   "outputs": [
    {
     "name": "stdout",
     "output_type": "stream",
     "text": [
      "  Customer  Candies (#)  Mangoes (Kg)  Milk Packets (#)  Payment (Rs)\n",
      "0      C_1           20             6                 2           386\n",
      "1      C_2           16             3                 6           289\n",
      "2      C_3           27             6                 2           393\n",
      "3      C_4           19             1                 2           110\n",
      "4      C_5           24             4                 2           280\n",
      "5      C_6           22             1                 5           167\n",
      "6      C_7           15             4                 2           271\n",
      "7      C_8           18             4                 2           274\n",
      "8      C_9           21             1                 4           148\n",
      "9     C_10           16             2                 4           198\n"
     ]
    }
   ],
   "source": [
    "import pandas as pd\n",
    "import openpyxl\n",
    "import numpy as np\n",
    "df = pd.read_excel('Lab Session1 Data.xlsx')\n",
    "print(df.iloc[:,:5])"
   ]
  },
  {
   "cell_type": "code",
   "execution_count": 134,
   "metadata": {},
   "outputs": [
    {
     "name": "stdout",
     "output_type": "stream",
     "text": [
      "MAtrix A is    Candies (#)  Mangoes (Kg)  Milk Packets (#)\n",
      "0           20             6                 2\n",
      "1           16             3                 6\n",
      "2           27             6                 2\n",
      "3           19             1                 2\n",
      "4           24             4                 2\n",
      "5           22             1                 5\n",
      "6           15             4                 2\n",
      "7           18             4                 2\n",
      "8           21             1                 4\n",
      "9           16             2                 4\n",
      "MAtric C is    Payment (Rs)\n",
      "0           386\n",
      "1           289\n",
      "2           393\n",
      "3           110\n",
      "4           280\n",
      "5           167\n",
      "6           271\n",
      "7           274\n",
      "8           148\n",
      "9           198\n"
     ]
    }
   ],
   "source": [
    "A=df.iloc[:,1:4]\n",
    "print(f\"MAtrix A is {A}\")\n",
    "C=df.iloc[:,4:5]\n",
    "print(f\"MAtric C is {C}\")"
   ]
  },
  {
   "cell_type": "code",
   "execution_count": 135,
   "metadata": {},
   "outputs": [
    {
     "name": "stdout",
     "output_type": "stream",
     "text": [
      "Dimension of the vector space is 3\n"
     ]
    }
   ],
   "source": [
    "dimension=A.shape[1]\n",
    "print(f\"Dimension of the vector space is {dimension}\")"
   ]
  },
  {
   "cell_type": "code",
   "execution_count": 136,
   "metadata": {},
   "outputs": [
    {
     "name": "stdout",
     "output_type": "stream",
     "text": [
      "No of vectors in the vector space is 10\n",
      "rank of matrix A is 3\n"
     ]
    }
   ],
   "source": [
    "vectors=A.shape[0]\n",
    "print(f\"No of vectors in the vector space is {vectors}\")\n",
    "rank = np.linalg.matrix_rank(A)\n",
    "print(f\"rank of matrix A is {rank}\")"
   ]
  },
  {
   "cell_type": "code",
   "execution_count": 137,
   "metadata": {},
   "outputs": [
    {
     "name": "stdout",
     "output_type": "stream",
     "text": [
      "[[-0.01008596 -0.03124505  0.01013951  0.0290728   0.0182907   0.01161794\n",
      "  -0.00771348  0.00095458  0.01743623 -0.00542016]\n",
      " [ 0.09059668  0.07263726  0.03172933 -0.09071908 -0.01893196 -0.06926996\n",
      "   0.05675464  0.03152577 -0.07641966  0.00357352]\n",
      " [ 0.00299878  0.15874243 -0.05795468 -0.06609024 -0.06295043  0.03348017\n",
      "   0.01541831 -0.01070461  0.00029003  0.05938755]]\n",
      "X vector is [[ 1.]\n",
      " [55.]\n",
      " [18.]] \n"
     ]
    }
   ],
   "source": [
    "Ainv=np.linalg.pinv(A, rcond=1e-15, hermitian=False)\n",
    "print(Ainv)\n",
    "X=np.dot(Ainv,C)\n",
    "print(f\"X vector is {X} \")\n"
   ]
  },
  {
   "cell_type": "code",
   "execution_count": 138,
   "metadata": {},
   "outputs": [
    {
     "name": "stdout",
     "output_type": "stream",
     "text": [
      "0    rich\n",
      "1    rich\n",
      "2    rich\n",
      "3    poor\n",
      "4    rich\n",
      "5    poor\n",
      "6    rich\n",
      "7    rich\n",
      "8    poor\n",
      "9    poor\n",
      "Name: category, dtype: object\n"
     ]
    }
   ],
   "source": [
    "\n",
    "df['category'] = ['rich' if payment > 200 else 'poor' for payment in df['Payment (Rs)']]\n",
    "print(df[\"category\"])\n"
   ]
  },
  {
   "cell_type": "code",
   "execution_count": 139,
   "metadata": {},
   "outputs": [
    {
     "name": "stdout",
     "output_type": "stream",
     "text": [
      "             Date Month  Day    Price     Open     High      Low   Volume  \\\n",
      "0    Jun 29, 2021   Jun  Tue  2081.85  2092.00  2126.90  2065.05    1.67M   \n",
      "1    Jun 28, 2021   Jun  Mon  2077.75  2084.00  2112.45  2068.40  707.73K   \n",
      "2    Jun 25, 2021   Jun  Fri  2068.85  2084.35  2088.50  2053.10  475.82K   \n",
      "3    Jun 24, 2021   Jun  Thu  2072.95  2098.00  2098.00  2066.00  541.51K   \n",
      "4    Jun 23, 2021   Jun  Wed  2078.25  2102.00  2111.40  2072.00  809.62K   \n",
      "..            ...   ...  ...      ...      ...      ...      ...      ...   \n",
      "244  Jul 07, 2020   Jul  Tue  1397.40  1410.00  1411.00  1390.05  480.21K   \n",
      "245  Jul 06, 2020   Jul  Mon  1400.75  1405.50  1415.50  1394.00  614.93K   \n",
      "246  Jul 03, 2020   Jul  Fri  1405.10  1415.00  1425.00  1398.00  599.49K   \n",
      "247  Jul 02, 2020   Jul  Thu  1412.35  1440.00  1467.80  1395.30    2.16M   \n",
      "248  Jul 01, 2020   Jul  Wed  1363.05  1363.65  1377.00  1356.00  383.00K   \n",
      "\n",
      "       Chg%  \n",
      "0    0.0020  \n",
      "1    0.0043  \n",
      "2   -0.0020  \n",
      "3   -0.0026  \n",
      "4   -0.0023  \n",
      "..      ...  \n",
      "244 -0.0024  \n",
      "245 -0.0031  \n",
      "246 -0.0051  \n",
      "247  0.0362  \n",
      "248  0.0032  \n",
      "\n",
      "[249 rows x 9 columns]\n"
     ]
    }
   ],
   "source": [
    "df1 = pd.read_excel('Lab Session1 Data.xlsx', sheet_name=1)\n",
    "print(df1.iloc[:,:9])"
   ]
  },
  {
   "cell_type": "code",
   "execution_count": 142,
   "metadata": {},
   "outputs": [
    {
     "name": "stdout",
     "output_type": "stream",
     "text": [
      "Mean : 1560.6634538152612\n",
      "Variance : 58732.36535253918\n"
     ]
    }
   ],
   "source": [
    "import statistics\n",
    "D=df1['Price'].mean()\n",
    "print(f\"Mean : {D}\")\n",
    "V=df1['Price'].var()\n",
    "print(f\"Variance : {V}\")"
   ]
  },
  {
   "cell_type": "code",
   "execution_count": 143,
   "metadata": {},
   "outputs": [
    {
     "name": "stdout",
     "output_type": "stream",
     "text": [
      "Wednesday Mean: 1550.7060000000001\n",
      "Population Mean: 1560.6634538152612\n"
     ]
    }
   ],
   "source": [
    "# Select the rows where the day of the week is Wednesday\n",
    "wednesday_df = df1[df1['Day'] == 'Wed']\n",
    " \n",
    "# Calculate the mean of the 'Price' column for these rows\n",
    "wednesday_mean = wednesday_df['Price'].mean()\n",
    " \n",
    "# Calculate the mean of the 'Price' column for all rows (population mean)\n",
    "population_mean = df1['Price'].mean()\n",
    " \n",
    "print('Wednesday Mean:', wednesday_mean)\n",
    "print('Population Mean:', population_mean)"
   ]
  }
 ],
 "metadata": {
  "kernelspec": {
   "display_name": "Python 3",
   "language": "python",
   "name": "python3"
  },
  "language_info": {
   "codemirror_mode": {
    "name": "ipython",
    "version": 3
   },
   "file_extension": ".py",
   "mimetype": "text/x-python",
   "name": "python",
   "nbconvert_exporter": "python",
   "pygments_lexer": "ipython3",
   "version": "3.12.1"
  }
 },
 "nbformat": 4,
 "nbformat_minor": 2
}
