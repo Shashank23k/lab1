{
 "cells": [
  {
   "cell_type": "code",
   "execution_count": 5,
   "metadata": {},
   "outputs": [
    {
     "name": "stdout",
     "output_type": "stream",
     "text": [
      "Accuracy of perceptron on test data: 0.5\n",
      "Accuracy of matrix pseudo-inverse on test data: 0.5\n"
     ]
    }
   ],
   "source": [
    "import pandas as pd\n",
    "import numpy as np\n",
    "\n",
    "class Perceptron:\n",
    "    def __init__(self, num_features, learning_rate=0.01):\n",
    "        self.weights = np.random.rand(num_features)\n",
    "        self.bias = np.random.rand()\n",
    "        self.learning_rate = learning_rate\n",
    "\n",
    "    def sigmoid(self, x):\n",
    "        return 1 / (1 + np.exp(-x))\n",
    "\n",
    "    def predict(self, inputs):\n",
    "        weighted_sum = np.dot(inputs, self.weights) + self.bias\n",
    "        return self.sigmoid(weighted_sum)\n",
    "\n",
    "    def train(self, inputs, labels, epochs):\n",
    "        for _ in range(epochs):\n",
    "            for x, y in zip(inputs, labels):\n",
    "                prediction = self.predict(x)\n",
    "                error = y - prediction\n",
    "                self.weights += self.learning_rate * error * x\n",
    "                self.bias += self.learning_rate * error\n",
    "\n",
    "# Load data from Excel sheet into DataFrame\n",
    "df = pd.read_excel('customerdata.xlsx')\n",
    "\n",
    "print(df)\n",
    "\n",
    "# Encoding labels to numeric values\n",
    "label_encoding = {'Yes': 1, 'No': 0}\n",
    "df['High Value Tx'] = df['High Value Tx'].map(label_encoding)\n",
    "\n",
    "# Extracting features and labels\n",
    "inputs = df.drop(columns=['Customer', 'High Value Tx']).values.astype(float)\n",
    "labels = df['High Value Tx'].values\n",
    "\n",
    "# Normalize inputs\n",
    "inputs = inputs / inputs.max(axis=0)\n",
    "\n",
    "# Split data into training and test sets\n",
    "from sklearn.model_selection import train_test_split\n",
    "X_train, X_test, y_train, y_test = train_test_split(inputs, labels, test_size=0.2, random_state=42)\n",
    "\n",
    "# Initialize and train the perceptron\n",
    "perceptron = Perceptron(num_features=X_train.shape[1])\n",
    "perceptron.train(X_train, y_train, epochs=1000)\n",
    "\n",
    "# Test the perceptron on test data\n",
    "correct_predictions_perceptron = 0\n",
    "for x, y in zip(X_test, y_test):\n",
    "    prediction = perceptron.predict(x)\n",
    "    if prediction >= 0.5:\n",
    "        predicted_class = 1\n",
    "    else:\n",
    "        predicted_class = 0\n",
    "    if predicted_class == y:\n",
    "        correct_predictions_perceptron += 1\n",
    "\n",
    "accuracy_perceptron = correct_predictions_perceptron / len(y_test)\n",
    "print(f\"Accuracy of perceptron on test data: {accuracy_perceptron}\")\n",
    "\n",
    "# Using matrix pseudo-inverse\n",
    "X_train_pseudo_inv = np.linalg.pinv(X_train)\n",
    "weights_pseudo_inv = np.dot(X_train_pseudo_inv, y_train)\n",
    "\n",
    "# Test the pseudo-inverse on test data\n",
    "predictions_pseudo_inv = np.dot(X_test, weights_pseudo_inv)\n",
    "predictions_pseudo_inv = np.where(predictions_pseudo_inv >= 0.5, 1, 0)\n",
    "\n",
    "accuracy_pseudo_inv = np.mean(predictions_pseudo_inv == y_test)\n",
    "print(f\"Accuracy of matrix pseudo-inverse on test data: {accuracy_pseudo_inv}\")\n"
   ]
  }
 ],
 "metadata": {
  "kernelspec": {
   "display_name": "Python 3",
   "language": "python",
   "name": "python3"
  },
  "language_info": {
   "codemirror_mode": {
    "name": "ipython",
    "version": 3
   },
   "file_extension": ".py",
   "mimetype": "text/x-python",
   "name": "python",
   "nbconvert_exporter": "python",
   "pygments_lexer": "ipython3",
   "version": "3.12.1"
  }
 },
 "nbformat": 4,
 "nbformat_minor": 2
}
